{
 "cells": [
  {
   "cell_type": "code",
   "execution_count": null,
   "metadata": {},
   "outputs": [],
   "source": [
    "5.1"
   ]
  },
  {
   "cell_type": "markdown",
   "metadata": {},
   "source": [
    "\n",
    "ReDoS via Regex Injection\n",
    "The following example checks if the username is part of the password entered by the user.\n",
    "From here you can exploit the regrex by create a user with evil regrex as username. An example of this is ^(a+)+$. As the code have a section that compare the username with the password as match it will take a long time to process the request. From here to cause the error to happen, you can login in and attempt to change the password to something like aaaaaaaaaaaaaaaaaaaaaaaaa!. This will cause the server to take a long time to process the request and eventually timeout."
   ]
  },
  {
   "cell_type": "markdown",
   "metadata": {},
   "source": [
    "To fix this issues we will have to change the validatePassword function to something that match the username and password in a different way. One way to do this is to use the following code"
   ]
  },
  {
   "cell_type": "code",
   "execution_count": null,
   "metadata": {},
   "outputs": [],
   "source": [
    "  if (pass.includes(name)) {\n",
    "    req.flash('error', 'Do not include name in password.')\n",
    "    return res.redirect('back')\n",
    "  }"
   ]
  },
  {
   "cell_type": "markdown",
   "metadata": {},
   "source": [
    "The error also exist in sign up page. You can by passed the password number issues by using 1 instead of a as the username. It will be less effective but still can cause the server to take a long time to process the request with sufficient number of 1. "
   ]
  },
  {
   "cell_type": "markdown",
   "metadata": {},
   "source": [
    "5.2"
   ]
  },
  {
   "cell_type": "markdown",
   "metadata": {},
   "source": [
    "The application is vulenrable to side channel storage. This simple mean that it will reveal information such as the username and registration plate of the user. "
   ]
  },
  {
   "cell_type": "markdown",
   "metadata": {},
   "source": [
    "Register page"
   ]
  },
  {
   "cell_type": "markdown",
   "metadata": {},
   "source": [
    "Step 1: Go to registration page and create an user with the username and registration plate."
   ]
  },
  {
   "cell_type": "markdown",
   "metadata": {},
   "source": [
    "Step 2: From here you can see that the username and registration plate ïs then store in the database and whenever you attempt to register with the same username or registration plate, the application will tell you that the username or registration plate is already taken. This is a case where the application is revealing information about the user. "
   ]
  },
  {
   "cell_type": "markdown",
   "metadata": {},
   "source": [
    "Parking Feature"
   ]
  },
  {
   "cell_type": "markdown",
   "metadata": {},
   "source": [
    "Step 1: Log into the user and create a parking spot with with any registration plate. This is an issues as you can park any car that have a register plate. From here you can see that the application is revealing information about the user."
   ]
  }
 ],
 "metadata": {
  "language_info": {
   "name": "python"
  }
 },
 "nbformat": 4,
 "nbformat_minor": 2
}
